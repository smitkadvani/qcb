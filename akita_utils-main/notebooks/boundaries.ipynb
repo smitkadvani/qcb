{
 "cells": [
  {
   "cell_type": "code",
   "execution_count": null,
   "id": "881fe14f-e758-4108-bc95-c0cb75361b7f",
   "metadata": {},
   "outputs": [],
   "source": [
    "import matplotlib.pyplot as plt\n",
    "import seaborn as sns\n",
    "import bioframe \n",
    "import pandas as pd\n",
    "import numpy as np \n",
    "import os\n",
    "import json\n",
    "from io import StringIO\n",
    "import random\n",
    "\n",
    "import pysam\n",
    "import h5py\n",
    "\n",
    "from Bio import motifs\n",
    "from Bio import pairwise2\n",
    "from Bio.Seq import Seq"
   ]
  },
  {
   "cell_type": "code",
   "execution_count": null,
   "id": "df76e1d4-b471-44da-9ba7-ea1983a3a695",
   "metadata": {},
   "outputs": [],
   "source": [
    "import sys\n",
    "\n",
    "sys.path.insert(0, \"/home1/smaruj/akita_utils/\")\n",
    "\n",
    "# from akita_utils import *\n",
    "import akita_utils"
   ]
  },
  {
   "cell_type": "code",
   "execution_count": null,
   "id": "cbcaaee0-ff1b-4e4d-8051-dff6ca580294",
   "metadata": {},
   "outputs": [],
   "source": [
    "genome_open = pysam.Fastafile(\"/project/fudenber_735/genomes/mm10/mm10.fa\")"
   ]
  },
  {
   "cell_type": "code",
   "execution_count": null,
   "id": "3829e945-25d0-4dcf-958b-832af6f5197a",
   "metadata": {},
   "outputs": [],
   "source": [
    "import os\n",
    "os.environ[\"CUDA_VISIBLE_DEVICES\"] = \"-1\"\n",
    "import tensorflow as tf\n",
    "print(\"Tensorflow: \", tf.__version__)\n",
    "\n",
    "from basenji import dataset, seqnn, dna_io, stream"
   ]
  },
  {
   "cell_type": "code",
   "execution_count": null,
   "id": "e0ec849b-1e85-4247-9d52-b69149414c68",
   "metadata": {
    "tags": []
   },
   "outputs": [],
   "source": [
    "# NOTE\n",
    "# head_i = 0 #human\n",
    "# head_i = 1 #mouse\n",
    "#\n",
    "\n",
    "head_i = 1 #mouse\n",
    "# head_i = 0\n",
    "model_num = 1 #which fold to use\n",
    "\n",
    "\n",
    "#base_dir = '/project/fudenber_735/backup/DNN_HiC/human-mouse_5-16-21/'\n",
    "#model_dir = base_dir+\"/f\"+str(model_num)+\"_c0/train/\"\n",
    "\n",
    "base_dir = \"/project/fudenber_735/tensorflow_models/akita/v2/models/\"\n",
    "model_dir = base_dir + \"/f\" + str(model_num) + \"c0/train/\"\n",
    "model_file  = model_dir + \"/model\" + str(head_i) + \"_best.h5\"\n",
    "\n",
    "\n",
    "# model_dir = '/home1/fudenber/repositories/basenji/manuscripts/akita/'\n",
    "# model_file = model_dir+'/model_best.h5'\n",
    "\n",
    "params_file = model_dir + \"/params.json\"\n",
    "# params_file -> json (dict) with model's parameters\n",
    "with open(params_file) as params_open:\n",
    "    params = json.load(params_open)\n",
    "    params_model = params[\"model\"]\n",
    "    params_train = params[\"train\"]\n",
    "seq_length = params_model[\"seq_length\"]\n",
    "params_model[\"verbose\"] = False\n",
    "\n",
    "seqnn_model = seqnn.SeqNN(params_model)\n",
    "print(\"built\")\n",
    "\n",
    "seqnn_model.restore(model_file, head_i=head_i)    # model with the mouse head\n",
    "print(\"restored\")"
   ]
  },
  {
   "cell_type": "code",
   "execution_count": null,
   "id": "defaaef5-1603-4a9a-a991-41a34d75ecdd",
   "metadata": {},
   "outputs": [],
   "source": [
    "hic_diags = params_model[\"diagonal_offset\"]\n",
    "try:\n",
    "    target_crop = params_model[\"trunk\"][-2][\"cropping\"]\n",
    "except:\n",
    "    target_crop = params_model[\"target_crop\"]\n",
    "\n",
    "print(\"hic_diags: \", hic_diags) \n",
    "print(\"target_crop: \", target_crop)\n",
    "print(\"seq_length: \", seq_length)\n",
    "\n",
    "target_length_cropped = int((seq_length//2048 - target_crop*2 - hic_diags) * ((seq_length//2048 - target_crop*2 - hic_diags) +1)/2) \n",
    "target_map_size = seq_length//2048  - target_crop*2 \n",
    "triu_tup = np.triu_indices(target_map_size, 2)    # Return the indices for the upper-triangle of an (n, m) array, here k=2 (diagonal offset)\n",
    "# target_map_size, target_length_cropped, triu_tup[0].shape\n",
    "\n",
    "print(\"target_length_cropped: \", target_length_cropped)\n",
    "print(\"target_map_size: \", target_map_size)\n",
    "print(\"shape of triu_tup[0]: \", triu_tup[0].shape)"
   ]
  },
  {
   "cell_type": "code",
   "execution_count": null,
   "id": "1737bf3e-9c7e-4ee7-9598-1535093547d0",
   "metadata": {},
   "outputs": [],
   "source": [
    "background_file = base_dir + '../analysis/background_seqs.fa'\n",
    "background_seqs = []\n",
    "with open(background_file,'r') as f:\n",
    "  for line in f.readlines():\n",
    "    if '>' in line: continue\n",
    "    background_seqs.append(dna_io.dna_1hot(line.strip())) "
   ]
  },
  {
   "cell_type": "code",
   "execution_count": null,
   "id": "b9137760-36a8-4cad-b5d3-c7fde738727b",
   "metadata": {},
   "outputs": [],
   "source": [
    "seq_coords_df = akita_utils.prepare_insertion_tsv(\n",
    "    h5_dirs = '/project/fudenber_735/tensorflow_models/akita/v2/analysis/permute_boundaries_motifs_ctcf_mm10_model*/scd.h5',\n",
    "    score_key = 'SCD',\n",
    "    # flank_pad = 60, #how much flanking sequence around the sites to include\n",
    "    weak_thresh_pct = 1, # don't use sites weaker than this, might be artifacts\n",
    "    weak_num = 20 ,\n",
    "    strong_thresh_pct = 99, # don't use sites weaker than this, might be artifacts\n",
    "    strong_num = 100 ,\n",
    "    save_tsv=None, # optional filename to save a tsv\n",
    ")"
   ]
  },
  {
   "cell_type": "code",
   "execution_count": null,
   "id": "ab414611-ed02-4850-86f1-d5aa25b6da70",
   "metadata": {},
   "outputs": [],
   "source": [
    "strong_seq_coords_df = seq_coords_df[:100]"
   ]
  },
  {
   "cell_type": "code",
   "execution_count": null,
   "id": "325b459c-ffee-423c-a603-351ce0af701b",
   "metadata": {},
   "outputs": [],
   "source": [
    "# strong_seq_coords_df[\"end\"][0] - strong_seq_coords_df[\"start\"][0]"
   ]
  },
  {
   "cell_type": "code",
   "execution_count": null,
   "id": "0d806711",
   "metadata": {},
   "outputs": [],
   "source": [
    "# >MA0139.1\tCTCF\n",
    "# A  [    87    167    281     56      8    744     40    107    851      5    333     54     12     56    104    372     82    117    402 ]\n",
    "# C  [   291    145     49    800    903     13    528    433     11      0      3     12      0      8    733     13    482    322    181 ]\n",
    "# G  [    76    414    449     21      0     65    334     48     32    903    566    504    890    775      5    507    307     73    266 ]\n",
    "# T  [   459    187    134     36      2     91     11    324     18      3      9    341      8     71     67     17     37    396     59 ]"
   ]
  },
  {
   "cell_type": "code",
   "execution_count": null,
   "id": "3c0d8cb0",
   "metadata": {},
   "outputs": [],
   "source": [
    "fh = open(\"CTCF.txt\")\n",
    "for m in motifs.parse(fh, \"jaspar\"):\n",
    "    motif = m\n",
    "\n",
    "pssm = motif.pssm\n",
    "motif.consensus"
   ]
  },
  {
   "cell_type": "code",
   "execution_count": null,
   "id": "4abf3f3f-da94-4ef8-afab-734804a72634",
   "metadata": {},
   "outputs": [],
   "source": [
    "flank = 5000\n",
    "\n",
    "score_list = []\n",
    "position_list = []\n",
    "\n",
    "for i in [j for j in range(len(strong_seq_coords_df))]:\n",
    "    try:\n",
    "        scores_here = []\n",
    "        positions_here = []\n",
    "        \n",
    "        TAD_boundary = Seq(genome_open.fetch(strong_seq_coords_df[\"chrom\"][i], strong_seq_coords_df[\"start\"][i]-flank, strong_seq_coords_df[\"end\"][i]+flank).upper())\n",
    "        for position, score in pssm.search(TAD_boundary, threshold=10.0):\n",
    "            scores_here.append(score)\n",
    "            positions_here.append(position)\n",
    "        \n",
    "        score_list.append(scores_here)\n",
    "        position_list.append(positions_here)\n",
    "    except:\n",
    "        continue"
   ]
  },
  {
   "cell_type": "code",
   "execution_count": null,
   "id": "7abc31f6",
   "metadata": {},
   "outputs": [],
   "source": [
    "df = pd.DataFrame(list(zip(score_list, position_list)), columns =['score', 'position'], index=strong_seq_coords_df.index)\n",
    "new = strong_seq_coords_df.join(df, how=\"left\")"
   ]
  },
  {
   "cell_type": "code",
   "execution_count": null,
   "id": "982a5471",
   "metadata": {},
   "outputs": [],
   "source": [
    "new[\"nr_CTCFs\"] = new[\"score\"].apply(lambda x: len(x))"
   ]
  },
  {
   "cell_type": "code",
   "execution_count": null,
   "id": "3405489c-316c-4122-a0c7-d0b505c88594",
   "metadata": {},
   "outputs": [],
   "source": [
    "new"
   ]
  },
  {
   "cell_type": "code",
   "execution_count": null,
   "id": "428daabe-7c15-4ce4-ae27-854011e8fe0d",
   "metadata": {},
   "outputs": [],
   "source": [
    "# print(len(score_list))\n",
    "plt.figure(figsize=(12,8))\n",
    "# sns.histplot(data=score_list)\n",
    "\n",
    "ax = sns.histplot(data=new, x=\"nr_CTCFs\")\n",
    "ax.set(xlabel='# CTCFs', ylabel='count')\n",
    "# plt.savefig(\"SINEB2_scores_hist.png\")\n",
    "plt.show()"
   ]
  },
  {
   "cell_type": "code",
   "execution_count": null,
   "id": "db54eeb1-2dac-4b18-8dbc-7fa5ae8b83a1",
   "metadata": {},
   "outputs": [],
   "source": [
    "twoCTCFs = new[new[\"nr_CTCFs\"] == 2]"
   ]
  },
  {
   "cell_type": "code",
   "execution_count": null,
   "id": "c6c9814f-32ce-43da-83fa-c2ef0b901130",
   "metadata": {},
   "outputs": [],
   "source": [
    "twoCTCFs[\"distance\"] = twoCTCFs[\"position\"].apply(lambda x: abs(x[0] - x[1]))\n",
    "twoCTCFs.index = [i for i in range(len(twoCTCFs))]"
   ]
  },
  {
   "cell_type": "code",
   "execution_count": null,
   "id": "9f10cc70-0416-472d-8e13-3f7ccabc9345",
   "metadata": {},
   "outputs": [],
   "source": [
    "twoCTCFs"
   ]
  },
  {
   "cell_type": "code",
   "execution_count": null,
   "id": "e6bd02ce-a2df-4c36-a53c-42e28589cce6",
   "metadata": {},
   "outputs": [],
   "source": [
    "# print(len(score_list))\n",
    "plt.figure(figsize=(12,8))\n",
    "# sns.histplot(data=score_list)\n",
    "\n",
    "ax = sns.histplot(data=twoCTCFs, x=\"distance\")\n",
    "ax.set(xlabel='distance between CTCFs', ylabel='count')\n",
    "# plt.savefig(\"SINEB2_scores_hist.png\")\n",
    "plt.show()"
   ]
  },
  {
   "cell_type": "code",
   "execution_count": null,
   "id": "6842e5ee",
   "metadata": {},
   "outputs": [],
   "source": [
    "# best_score = 0\n",
    "# for align in pairwise2.align.localxx(consensus, test):\n",
    "#     if align.score > best_score:\n",
    "#         best_score = align.score\n",
    "# print(best_score)"
   ]
  },
  {
   "cell_type": "code",
   "execution_count": null,
   "id": "99de0731",
   "metadata": {},
   "outputs": [],
   "source": [
    "# df = pd.DataFrame(list(zip(score_list, position_list, length_list)), columns =[\"score\", \"position\", \"length\"])"
   ]
  },
  {
   "cell_type": "code",
   "execution_count": null,
   "id": "4a398cd3",
   "metadata": {},
   "outputs": [],
   "source": [
    "# print(len(score_list))\n",
    "# plt.figure(figsize=(12,8))\n",
    "# # sns.histplot(data=score_list)\n",
    "\n",
    "# ax = sns.histplot(data=df, x=\"score\")\n",
    "# ax.set(xlabel='score', ylabel='count')\n",
    "# # plt.savefig(\"SINEB2_scores_hist.png\")\n",
    "# plt.show()"
   ]
  },
  {
   "cell_type": "code",
   "execution_count": null,
   "id": "56e4997b",
   "metadata": {},
   "outputs": [],
   "source": [
    "# plt.figure(figsize=(12,8))\n",
    "# # sns.histplot(data=score_list)\n",
    "\n",
    "# ax = sns.histplot(data=df, x=\"position\")\n",
    "# ax.set(xlabel='position', ylabel='count')\n",
    "# # plt.savefig(\"SINEB2_scores_hist.png\")\n",
    "# plt.show()"
   ]
  },
  {
   "cell_type": "code",
   "execution_count": null,
   "id": "a9923daf",
   "metadata": {},
   "outputs": [],
   "source": [
    "# NOT RIGHT\n",
    "\n",
    "# def directional_position(row):\n",
    "#     if row[\"position\"] > 0:\n",
    "#         return row[\"position\"]\n",
    "#     else:\n",
    "#         return row[\"length\"] + row[\"position\"]\n",
    "\n",
    "# df[\"dir_position\"] = df.apply(directional_position, axis=1)"
   ]
  },
  {
   "cell_type": "code",
   "execution_count": null,
   "id": "b03fef37",
   "metadata": {},
   "outputs": [],
   "source": [
    "# df[\"abs_position\"] = df[\"position\"].apply(lambda x: abs(x))\n",
    "# df[\"strand\"] = df[\"position\"].apply(lambda x: np.sign(x))\n",
    "# df"
   ]
  },
  {
   "cell_type": "code",
   "execution_count": null,
   "id": "1ffd3084",
   "metadata": {},
   "outputs": [],
   "source": [
    "# plt.figure(figsize=(12,8))\n",
    "# # sns.histplot(data=score_list)\n",
    "\n",
    "# ax = sns.histplot(data=df, x=\"abs_position\", hue=\"strand\")\n",
    "# ax.set(xlabel='position', ylabel='count')\n",
    "# # plt.savefig(\"SINEB2_scores_hist.png\")\n",
    "# plt.show()"
   ]
  },
  {
   "cell_type": "code",
   "execution_count": null,
   "id": "8807f476",
   "metadata": {},
   "outputs": [],
   "source": [
    "# i = 3220\n",
    "# Position = 51\n",
    "# Scoretest = Seq(genome_open.fetch(SINEB2[\"chrom\"][i], SINEB2[\"start\"][i], SINEB2[\"end\"][i]).upper())\n",
    "\n",
    "# print(\"Concensus: TGGCCACCAGGGGGCGCTA\")\n",
    "# if Position > 0:\n",
    "#     print(\"Found: \", Scoretest[Position:Position+19])\n",
    "# else:\n",
    "#     print(\"Found: \", Scoretest[Position:Position-19].reverse_complement())"
   ]
  },
  {
   "cell_type": "code",
   "execution_count": null,
   "id": "2e076aac",
   "metadata": {},
   "outputs": [],
   "source": [
    "# SINEB2.iloc[3220]"
   ]
  },
  {
   "cell_type": "code",
   "execution_count": null,
   "id": "3aed234f",
   "metadata": {},
   "outputs": [],
   "source": [
    "# flank = 0\n",
    "# trimmed_SINEB2_CTCF = Seq(genome_open.fetch(SINEB2[\"chrom\"][i], SINEB2[\"start\"][i] + Position - flank, SINEB2[\"start\"][i] + Position + 19 + flank).upper())\n",
    "# insert_length = len(trimmed_SINEB2_CTCF)"
   ]
  },
  {
   "cell_type": "code",
   "execution_count": null,
   "id": "0a09104a",
   "metadata": {},
   "outputs": [],
   "source": [
    "# flank = 50\n",
    "# trimmed_SINEB2_CTCF = Seq(genome_open.fetch(SINEB2[\"chrom\"][i], SINEB2[\"start\"][i], SINEB2[\"end\"][i]).upper())\n",
    "# insert_length = len(trimmed_SINEB2_CTCF)"
   ]
  },
  {
   "cell_type": "code",
   "execution_count": null,
   "id": "3dc77d95",
   "metadata": {},
   "outputs": [],
   "source": [
    "# insert_length"
   ]
  },
  {
   "cell_type": "code",
   "execution_count": null,
   "id": "40a0bf0d-860a-4b3c-9ef9-13dd4f319b7a",
   "metadata": {},
   "outputs": [],
   "source": [
    "# NOTE\n",
    "# head_i = 0 #human\n",
    "# head_i = 1 #mouse\n",
    "#\n",
    "\n",
    "head_i = 1 #mouse\n",
    "# head_i = 0\n",
    "model_num = 1 #which fold to use\n",
    "\n",
    "\n",
    "#base_dir = '/project/fudenber_735/backup/DNN_HiC/human-mouse_5-16-21/'\n",
    "#model_dir = base_dir+\"/f\"+str(model_num)+\"_c0/train/\"\n",
    "\n",
    "base_dir = \"/project/fudenber_735/tensorflow_models/akita/v2/models/\"\n",
    "model_dir = base_dir + \"/f\" + str(model_num) + \"c0/train/\"\n",
    "model_file  = model_dir + \"/model\" + str(head_i) + \"_best.h5\"\n",
    "\n",
    "\n",
    "# model_dir = '/home1/fudenber/repositories/basenji/manuscripts/akita/'\n",
    "# model_file = model_dir+'/model_best.h5'\n",
    "\n",
    "params_file = model_dir + \"/params.json\"\n",
    "# params_file -> json (dict) with model's parameters\n",
    "with open(params_file) as params_open:\n",
    "    params = json.load(params_open)\n",
    "    params_model = params[\"model\"]\n",
    "    params_train = params[\"train\"]\n",
    "seq_length = params_model[\"seq_length\"]\n",
    "params_model[\"verbose\"] = False\n",
    "\n",
    "seqnn_model = seqnn.SeqNN(params_model)\n",
    "print(\"built\")\n",
    "\n",
    "seqnn_model.restore(model_file, head_i=head_i)    # model with the mouse head\n",
    "print(\"restored\")\n"
   ]
  },
  {
   "cell_type": "code",
   "execution_count": null,
   "id": "cb70187a-8deb-42ca-b915-ef155bc1cc53",
   "metadata": {},
   "outputs": [],
   "source": [
    "hic_diags = params_model[\"diagonal_offset\"]\n",
    "try:\n",
    "    target_crop = params_model[\"trunk\"][-2][\"cropping\"]\n",
    "except:\n",
    "    target_crop = params_model[\"target_crop\"]\n",
    "\n",
    "print(\"hic_diags: \", hic_diags) \n",
    "print(\"target_crop: \", target_crop)\n",
    "print(\"seq_length: \", seq_length)\n",
    "\n",
    "target_length_cropped = int((seq_length//2048 - target_crop*2 - hic_diags) * ((seq_length//2048 - target_crop*2 - hic_diags) +1)/2) \n",
    "target_map_size = seq_length//2048  - target_crop*2 \n",
    "triu_tup = np.triu_indices(target_map_size, 2)    # Return the indices for the upper-triangle of an (n, m) array, here k=2 (diagonal offset)\n",
    "# target_map_size, target_length_cropped, triu_tup[0].shape\n",
    "\n",
    "print(\"target_length_cropped: \", target_length_cropped)\n",
    "print(\"target_map_size: \", target_map_size)\n",
    "print(\"shape of triu_tup[0]: \", triu_tup[0].shape)"
   ]
  },
  {
   "cell_type": "code",
   "execution_count": null,
   "id": "6f6daaf9",
   "metadata": {},
   "outputs": [],
   "source": [
    "background_file = base_dir + '../analysis/background_seqs.fa'\n",
    "background_seqs = []\n",
    "with open(background_file,'r') as f:\n",
    "  for line in f.readlines():\n",
    "    if '>' in line: continue\n",
    "    background_seqs.append(dna_io.dna_1hot(line.strip())) "
   ]
  },
  {
   "cell_type": "code",
   "execution_count": null,
   "id": "da276751",
   "metadata": {},
   "outputs": [],
   "source": [
    "spacer_bp = 0\n",
    "num_inserts = 6\n",
    "# multi_insert_length = num_inserts * (insert_length+spacer_bp)\n",
    "\n",
    "# offsets = []\n",
    "# for i in range(num_inserts):\n",
    "#     offsets.append( seq_length//2 - multi_insert_length//2 + i * (insert_length+spacer_bp))\n",
    "# offsets, seq_length//2"
   ]
  },
  {
   "cell_type": "code",
   "execution_count": null,
   "id": "62f623e0",
   "metadata": {},
   "outputs": [],
   "source": [
    "all_inserts = []\n",
    "\n",
    "for k in range(190,200):\n",
    "    SINEB2_seq = Seq(genome_open.fetch(new[\"chrom\"][k], new[\"start\"][k], new[\"end\"][k]).upper())\n",
    "    insert_length = len(SINEB2_seq)\n",
    "    multi_insert_length = num_inserts * (insert_length+spacer_bp)\n",
    "\n",
    "    offsets = []\n",
    "    for i in range(num_inserts):\n",
    "        offsets.append( seq_length//2 - multi_insert_length//2 + i * (insert_length+spacer_bp))\n",
    "    \n",
    "    for background_seq in background_seqs[0:1]:\n",
    "        seq_1hot = background_seq.copy()\n",
    "        seq_1hot_motif = dna_io.dna_1hot(genome_open.fetch(new[\"chrom\"][k], new[\"start\"][k], new[\"end\"][k]).upper())\n",
    "    \n",
    "    if new[\"strand\"][k] == '-': seq_1hot_motif = dna_io.hot1_rc(seq_1hot_motif)\n",
    "    for offset in offsets:\n",
    "        seq_1hot[offset:offset+insert_length] = seq_1hot_motif\n",
    "    all_inserts.append(seq_1hot)\n",
    "all_inserts = np.array(all_inserts)"
   ]
  },
  {
   "cell_type": "code",
   "execution_count": null,
   "id": "3d1995ff",
   "metadata": {},
   "outputs": [],
   "source": [
    "# all_inserts = []\n",
    "# i = 3220\n",
    "# for background_seq in background_seqs[0:1]:\n",
    "#   seq_1hot = background_seq.copy()\n",
    "#   seq_1hot_motif = dna_io.dna_1hot(genome_open.fetch(SINEB2[\"chrom\"][i], SINEB2[\"start\"][i] + Position - flank, SINEB2[\"start\"][i] + Position + 19 + flank).upper())\n",
    "#   # seq_1hot_motif = dna_io.dna_1hot(genome_open.fetch(SINEB2[\"chrom\"][i], SINEB2[\"start\"][i], SINEB2[\"end\"][i]).upper())\n",
    "#   if SINEB2[\"strand\"][i] == '-': seq_1hot_motif = dna_io.hot1_rc(seq_1hot_motif)\n",
    "#   for offset in offsets:\n",
    "#     # print(offset)\n",
    "#     # print(insert_length)\n",
    "#     seq_1hot[offset:offset+insert_length] = seq_1hot_motif\n",
    "#   all_inserts.append(seq_1hot)\n",
    "# all_inserts = np.array(all_inserts)"
   ]
  },
  {
   "cell_type": "code",
   "execution_count": null,
   "id": "293fb4ef",
   "metadata": {},
   "outputs": [],
   "source": [
    "all_inserts.shape"
   ]
  },
  {
   "cell_type": "code",
   "execution_count": null,
   "id": "39917242-a484-4042-a798-120278d1133a",
   "metadata": {},
   "outputs": [],
   "source": [
    "# for i in range(len(chrom)):\n",
    "#     if i == 0:\n",
    "#         mouse_frag = dna_io.dna_1hot(genome_open.fetch(chrom[i], start[i], start[i] + chunk).upper())\n",
    "#     else:\n",
    "#         new_frag =  dna_io.dna_1hot(genome_open.fetch(chrom[i], start[i], start[i] + chunk).upper())\n",
    "#         mouse_frag = np.stack((mouse_frag, new_frag), axis=0)"
   ]
  },
  {
   "cell_type": "code",
   "execution_count": null,
   "id": "5ce0e11f-1091-45ad-ad92-2b67181822db",
   "metadata": {},
   "outputs": [],
   "source": [
    "# mouse_frag, mouse_frag.shape"
   ]
  },
  {
   "cell_type": "code",
   "execution_count": null,
   "id": "65642a78-e970-4e3f-ace9-aed9cd712ec6",
   "metadata": {},
   "outputs": [],
   "source": [
    "pred = seqnn_model.predict(all_inserts)\n",
    "                           # , batch_size=10)   # so 20/10 = 2 batches"
   ]
  },
  {
   "cell_type": "code",
   "execution_count": null,
   "id": "8e31daf4",
   "metadata": {},
   "outputs": [],
   "source": [
    "# with_retro = dna_io.dna_1hot(genome_open.fetch(SINEB2[\"chrom\"][i], SINEB2[\"start\"][i] - half, SINEB2[\"end\"][i] + half - 212).upper())\n",
    "# len(with_retro)"
   ]
  },
  {
   "cell_type": "code",
   "execution_count": null,
   "id": "fce2d316",
   "metadata": {},
   "outputs": [],
   "source": [
    "# without_retro = dna_io.dna_1hot(genome_open.fetch(SINEB2[\"chrom\"][i], SINEB2[\"start\"][i] - half, SINEB2[\"start\"][i]).upper()\n",
    "# + genome_open.fetch(SINEB2[\"chrom\"][i], SINEB2[\"end\"][i], SINEB2[\"end\"][i] + half).upper())\n",
    "# len(without_retro)"
   ]
  },
  {
   "cell_type": "code",
   "execution_count": null,
   "id": "c6a17e7f",
   "metadata": {},
   "outputs": [],
   "source": [
    "# mouse_frag = np.stack((with_retro, without_retro), axis=0)\n",
    "# mouse_frag.shape"
   ]
  },
  {
   "cell_type": "code",
   "execution_count": null,
   "id": "86a00a0e",
   "metadata": {},
   "outputs": [],
   "source": [
    "# pred = seqnn_model.predict(mouse_frag)"
   ]
  },
  {
   "cell_type": "code",
   "execution_count": null,
   "id": "cf2252d2",
   "metadata": {},
   "outputs": [],
   "source": [
    "pred.shape"
   ]
  },
  {
   "cell_type": "code",
   "execution_count": null,
   "id": "d4ed83a2-8327-4042-9adf-fb6da30775d1",
   "metadata": {},
   "outputs": [],
   "source": [
    "targets = [\"mESC\", \"mESC\", \"cortical neuron\", \"neocortex cortical neuron\", \"neural progenitor cell\", \"neocortex neural progenitor cell\"]\n",
    "# targets = [\"HFF\", \"H1hESC\", \"GM12878\", \"IMR90\", \"HCT116\"]"
   ]
  },
  {
   "cell_type": "code",
   "execution_count": null,
   "id": "98a4654a-6c78-4c9e-b655-67d1bf1a4fd3",
   "metadata": {},
   "outputs": [],
   "source": [
    "\n",
    "# plt.figure(figsize=(8,8))\n",
    "\n",
    "# for j in range(pred.shape[-1]):\n",
    "#     # plt.figure(figsize=(pred.shape[0]*5,pred.shape[-1]*5))\n",
    "#     plt.figure(figsize=(8,8))\n",
    "#     target_ind = j\n",
    "#     vlim = .5\n",
    "#     bin_mid = target_map_size//2\n",
    "#     window = 50\n",
    "\n",
    "#     for i in range(len(pred)):\n",
    "#         insert_pred = pred[:,:,i]\n",
    "#         # print(i, np.sqrt( (insert_pred**2).sum(axis=0)))\n",
    "\n",
    "#         plt.subplot(pred.shape[0], 2, i+1)\n",
    "#         plt.axis(\"off\")\n",
    "#         im = plt.matshow(\n",
    "#                 from_upper_triu(  \n",
    "#                 insert_pred, target_map_size, hic_diags),\n",
    "#                 vmin=-1*vlim, vmax=vlim, fignum=False, cmap=\"RdBu_r\")\n",
    "#         plt.colorbar(im, fraction=0.046, pad=0.04)\n",
    "#         plt.title(\"scd: \" + str(  np.sqrt( (insert_pred**2).sum(axis=0)  ).mean()) + \"\\n\"\n",
    "#                  f\"target: {targets[j]}\")\n",
    "#             #plt.axis([ bin_mid  - window,bin_mid+window,bin_mid-window, bin_mid+window])\n",
    "#     plt.tight_layout()\n",
    "#     plt.show()"
   ]
  },
  {
   "cell_type": "code",
   "execution_count": null,
   "id": "8784e434",
   "metadata": {},
   "outputs": [],
   "source": [
    "# plt.figure(figsize=(3*5,2*5))\n",
    "\n",
    "# target_ind = 0\n",
    "# vlim = .5\n",
    "# bin_mid = target_map_size//2\n",
    "# window = 50\n",
    "\n",
    "# for i in range(pred.shape[-1]):\n",
    "#     insert_pred = pred[0,:,i]\n",
    "#     print(i, np.sqrt( (insert_pred**2).sum(axis=0)))\n",
    "\n",
    "#     plt.subplot(2,3, i+1)\n",
    "#     im = plt.matshow(\n",
    "#             from_upper_triu(  \n",
    "#             insert_pred, target_map_size,hic_diags),\n",
    "#             vmin=-1*vlim, vmax=vlim, fignum=False,cmap='RdBu_r')\n",
    "#     plt.colorbar(im, fraction=0.046, pad=0.04)\n",
    "#     # plt.title('genomic-scd: '+str(seq_coords_df['genomic_SCD'].values[i]) +'\\n'+\n",
    "#     #           'insert-scd: '+str(  np.sqrt( (insert_pred**2).sum(axis=0)  ).mean() ) \n",
    "#     #           ) \n",
    "#     plt.title('insert-scd: '+str(  np.sqrt( (insert_pred**2).sum(axis=0)  ).mean() ) + \"\\n\" + f\"target: {targets[i]}\"\n",
    "#     )\n",
    "#     #plt.axis([ bin_mid  - window,bin_mid+window,bin_mid-window, bin_mid+window])\n",
    "# plt.tight_layout()\n",
    "# plt.show()"
   ]
  },
  {
   "cell_type": "code",
   "execution_count": null,
   "id": "d7174a99",
   "metadata": {},
   "outputs": [],
   "source": [
    "# scd_score = []"
   ]
  },
  {
   "cell_type": "code",
   "execution_count": null,
   "id": "9d072aa9",
   "metadata": {},
   "outputs": [],
   "source": [
    "plt.figure(figsize=(5*3,2*3))\n",
    "\n",
    "target_ind = 0\n",
    "vlim = .5\n",
    "bin_mid = target_map_size//2\n",
    "window = 50\n",
    "for i in range(10):\n",
    "    insert_pred = pred[i]\n",
    "    print(i, np.sqrt( (insert_pred**2).sum(axis=0)))\n",
    "    scd_score.append(np.sqrt( (insert_pred**2).sum(axis=0)  ).mean())\n",
    "    \n",
    "    plt.subplot(2,5, i+1)\n",
    "    im = plt.matshow(\n",
    "            from_upper_triu(  \n",
    "            insert_pred[:,target_ind], target_map_size,hic_diags),\n",
    "            vmin=-1*vlim, vmax=vlim, fignum=False,cmap='RdBu_r')\n",
    "    plt.colorbar(im, fraction=0.046, pad=0.04)\n",
    "    plt.title('insert-scd: '+str(  np.sqrt( (insert_pred**2).sum(axis=0)  ).mean() ) \n",
    "              ) \n",
    "    #plt.axis([ bin_mid  - window,bin_mid+window,bin_mid-window, bin_mid+window])\n",
    "plt.tight_layout()\n",
    "plt.show()"
   ]
  },
  {
   "cell_type": "code",
   "execution_count": null,
   "id": "f821e88e",
   "metadata": {},
   "outputs": [],
   "source": [
    "len(scd_score)"
   ]
  },
  {
   "cell_type": "code",
   "execution_count": null,
   "id": "ad32986a",
   "metadata": {},
   "outputs": [],
   "source": [
    "import copy\n",
    "scd_copy = copy.copy(scd_score)"
   ]
  },
  {
   "cell_type": "code",
   "execution_count": null,
   "id": "9c850d38",
   "metadata": {},
   "outputs": [],
   "source": [
    "dfm = pd.DataFrame(scd_copy, columns =['scd'], index=[i for i in range(len(scd_copy))])\n",
    "with_scd = new.join(dfm, how=\"left\")"
   ]
  },
  {
   "cell_type": "code",
   "execution_count": null,
   "id": "699fd630",
   "metadata": {},
   "outputs": [],
   "source": [
    "with_scd"
   ]
  },
  {
   "cell_type": "code",
   "execution_count": null,
   "id": "e6420833",
   "metadata": {},
   "outputs": [],
   "source": [
    "with_scd.to_csv(\"./200_SINEB2s.csv\")"
   ]
  },
  {
   "cell_type": "code",
   "execution_count": null,
   "id": "0c49e974",
   "metadata": {},
   "outputs": [],
   "source": [
    "plt.figure(figsize=(10,8))\n",
    "# plt.scatter(x=with_scd.scd, y=with_scd.score, s=with_scd.score*5, alpha=0.5, c=(abs(with_scd.end - with_scd.start)))\n",
    "plt.scatter(x=with_scd.scd, y=with_scd.aln_score, s=with_scd.score*5, alpha=0.5, c=with_scd.score)\n",
    "plt.colorbar()\n",
    "plt.xlabel(\"SCD\")\n",
    "plt.ylabel(\"Alignment score\")\n",
    "plt.show()"
   ]
  },
  {
   "cell_type": "code",
   "execution_count": null,
   "id": "63bd3a0a",
   "metadata": {},
   "outputs": [],
   "source": [
    "from mpl_toolkits import mplot3d"
   ]
  },
  {
   "cell_type": "code",
   "execution_count": null,
   "id": "fd6d0d85",
   "metadata": {},
   "outputs": [],
   "source": [
    " \n",
    "# Creating figure\n",
    "fig = plt.figure(figsize = (15, 12))\n",
    "ax = plt.axes(projection =\"3d\")\n",
    "\n",
    "sctt = ax.scatter3D(with_scd.scd, with_scd.aln_score, with_scd.score, s=70, c= with_scd.length)\n",
    " \n",
    "ax.set_xlabel('SCD')\n",
    "ax.set_ylabel('Alignment Score')\n",
    "ax.set_zlabel('CTCF Score')\n",
    "\n",
    "fig.colorbar(sctt, shrink = 0.5, aspect = 12)\n",
    "\n",
    "ax.view_init(30, 250)\n",
    "\n",
    "plt.show()"
   ]
  },
  {
   "cell_type": "code",
   "execution_count": null,
   "id": "317a087e",
   "metadata": {},
   "outputs": [],
   "source": [
    "\n",
    "# for j in range(pred.shape[-1]):\n",
    "#     plt.figure(figsize=(pred.shape[0]*6,pred.shape[-1]*5))\n",
    "#     target_ind = j\n",
    "#     vlim = .5\n",
    "#     bin_mid = target_map_size//2\n",
    "#     window = 50\n",
    "\n",
    "#     for i in range(len(pred)):\n",
    "#         insert_pred = pred[i]\n",
    "#         # print(i, np.sqrt( (insert_pred**2).sum(axis=0)))\n",
    "\n",
    "#         plt.subplot(6, 2, i+1)\n",
    "#         plt.axis(\"off\")\n",
    "#         im = plt.matshow(\n",
    "#                 from_upper_triu(  \n",
    "#                 insert_pred[:,target_ind], target_map_size, hic_diags),\n",
    "#                 vmin=-1*vlim, vmax=vlim, fignum=False, cmap=\"RdBu_r\")\n",
    "#         plt.colorbar(im, fraction=0.046, pad=0.04)\n",
    "#         plt.title(\"scd: \" + str(  np.sqrt( (insert_pred[:,:,j]**2).sum(axis=0)  ).mean()) + \"\\n\"\n",
    "#                  f\"target: {targets[j]}\")\n",
    "#             #plt.axis([ bin_mid  - window,bin_mid+window,bin_mid-window, bin_mid+window])\n",
    "#     plt.tight_layout()\n",
    "#     plt.show()"
   ]
  },
  {
   "cell_type": "code",
   "execution_count": null,
   "id": "c3e26fce",
   "metadata": {},
   "outputs": [],
   "source": [
    "# flanks = [\"1x\", \"4x\", \"6x\", \"0-CTCF\", \"10\", \"20\", \"30\", \"40\", \"50\"]\n",
    "# scores = [10.76, 15.23, 19.23, 15.22, 20.61, 21.97, 19.39, 20.42, 19.]\n",
    "\n",
    "# df = pd.DataFrame(list(zip(flanks, scores)), columns =['flanks', 'scores'])"
   ]
  },
  {
   "cell_type": "code",
   "execution_count": null,
   "id": "f54ff8ef",
   "metadata": {},
   "outputs": [],
   "source": [
    "# plt.figure(figsize=(12,8))\n",
    "# # sns.histplot(data=score_list)\n",
    "\n",
    "# ax = sns.barplot(data=df, x=\"flanks\", y=\"scores\")\n",
    "# ax.set(xlabel='variant', ylabel='score')\n",
    "# # plt.savefig(\"SINEB2_scores_hist.png\")\n",
    "# plt.show()"
   ]
  }
 ],
 "metadata": {
  "kernelspec": {
   "display_name": "Basenji kernel",
   "language": "python",
   "name": "basenji_kernel"
  },
  "language_info": {
   "codemirror_mode": {
    "name": "ipython",
    "version": 3
   },
   "file_extension": ".py",
   "mimetype": "text/x-python",
   "name": "python",
   "nbconvert_exporter": "python",
   "pygments_lexer": "ipython3",
   "version": "3.8.12"
  }
 },
 "nbformat": 4,
 "nbformat_minor": 5
}
